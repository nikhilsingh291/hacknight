{
 "cells": [
  {
   "cell_type": "code",
   "execution_count": 5,
   "metadata": {},
   "outputs": [],
   "source": [
    "import os\n",
    "from ocr_processing import OCR\n",
    "from aws_processing import AWS"
   ]
  },
  {
   "cell_type": "code",
   "execution_count": 3,
   "metadata": {},
   "outputs": [
    {
     "data": {
      "text/plain": [
       "['aws_processing.py',\n",
       " 'Untitled.ipynb',\n",
       " 'ocr_processing.py',\n",
       " '.ipynb_checkpoints']"
      ]
     },
     "execution_count": 3,
     "metadata": {},
     "output_type": "execute_result"
    }
   ],
   "source": [
    "os.listdir('./')"
   ]
  },
  {
   "cell_type": "code",
   "execution_count": 6,
   "metadata": {},
   "outputs": [],
   "source": [
    "image_path='31.png'"
   ]
  },
  {
   "cell_type": "code",
   "execution_count": 10,
   "metadata": {},
   "outputs": [
    {
     "data": {
      "text/plain": [
       "True"
      ]
     },
     "execution_count": 10,
     "metadata": {},
     "output_type": "execute_result"
    }
   ],
   "source": [
    "aws = AWS()\n",
    "ocr = OCR()\n",
    "\n",
    "file_name = os.path.basename(image_path)\n",
    "output_file_name = file_name[:-4]+'_ocr.jpg'\n",
    "output_file_path = ''\n",
    "\n",
    "full_output_file_path = os.path.join(\n",
    "    output_file_path, output_file_name)\n",
    "media_file_path = os.path.join('', output_file_name)\n",
    "\n",
    "extracted_text, json = aws.upload_and_process(image_path, file_name)\n",
    "ocr.create_annotated_image(json, image_path, full_output_file_path)\n",
    "ocr.create_text_file(json, output_file_path, file_name)\n",
    "ocr.create_json_file(json, output_file_path, file_name)"
   ]
  },
  {
   "cell_type": "code",
   "execution_count": 9,
   "metadata": {},
   "outputs": [
    {
     "data": {
      "text/plain": [
       "'KL01 AU585 Teram-Rwree '"
      ]
     },
     "execution_count": 9,
     "metadata": {},
     "output_type": "execute_result"
    }
   ],
   "source": [
    "extracted_text"
   ]
  }
 ],
 "metadata": {
  "kernelspec": {
   "display_name": "Python 3",
   "language": "python",
   "name": "python3"
  },
  "language_info": {
   "codemirror_mode": {
    "name": "ipython",
    "version": 3
   },
   "file_extension": ".py",
   "mimetype": "text/x-python",
   "name": "python",
   "nbconvert_exporter": "python",
   "pygments_lexer": "ipython3",
   "version": "3.6.6"
  }
 },
 "nbformat": 4,
 "nbformat_minor": 2
}
