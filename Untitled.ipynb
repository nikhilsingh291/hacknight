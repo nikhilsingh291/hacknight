{
 "cells": [
  {
   "cell_type": "code",
   "execution_count": 5,
   "metadata": {},
   "outputs": [],
   "source": [
    "import os\n",
    "from ocr_processing import OCR\n",
    "from aws_processing import AWS"
   ]
  },
  {
   "cell_type": "code",
   "execution_count": 3,
   "metadata": {},
   "outputs": [
    {
     "data": {
      "text/plain": [
       "['aws_processing.py',\n",
       " 'Untitled.ipynb',\n",
       " 'ocr_processing.py',\n",
       " '.ipynb_checkpoints']"
      ]
     },
     "execution_count": 3,
     "metadata": {},
     "output_type": "execute_result"
    }
   ],
   "source": [
    "os.listdir('./')"
   ]
  },
  {
   "cell_type": "code",
   "execution_count": 6,
   "metadata": {},
   "outputs": [],
   "source": [
    "image_path='31.png'"
   ]
  },
  {
   "cell_type": "code",
   "execution_count": 10,
   "metadata": {},
   "outputs": [
    {
     "data": {
      "text/plain": [
       "True"
      ]
     },
     "execution_count": 10,
     "metadata": {},
     "output_type": "execute_result"
    }
   ],
   "source": [
    "aws = AWS()\n",
    "ocr = OCR()\n",
    "\n",
    "file_name = os.path.basename(image_path)\n",
    "output_file_name = file_name[:-4]+'_ocr.jpg'\n",
    "output_file_path = ''\n",
    "\n",
    "full_output_file_path = os.path.join(\n",
    "    output_file_path, output_file_name)\n",
    "media_file_path = os.path.join('', output_file_name)\n",
    "\n",
    "extracted_text, json = aws.upload_and_process(image_path, file_name)\n",
    "ocr.create_annotated_image(json, image_path, full_output_file_path)\n",
    "ocr.create_text_file(json, output_file_path, file_name)\n",
    "ocr.create_json_file(json, output_file_path, file_name)"
   ]
  },
  {
   "cell_type": "code",
   "execution_count": 9,
   "metadata": {},
   "outputs": [
    {
     "data": {
      "text/plain": [
       "'KL01 AU585 Teram-Rwree '"
      ]
     },
     "execution_count": 9,
     "metadata": {},
     "output_type": "execute_result"
    }
   ],
   "source": [
    "extracted_text"
   ]
  },
  {
   "cell_type": "code",
   "execution_count": 8,
   "metadata": {},
   "outputs": [],
   "source": [
    "from util import img_search,pdf_search"
   ]
  },
  {
   "cell_type": "code",
   "execution_count": null,
   "metadata": {},
   "outputs": [],
   "source": [
    "def search_documents(files={'dl':'dwdw.jpg','policy':'dwdwd.pdf'}):\n",
    "    for i in files.keys():\n",
    "        if i== 'policy':\n",
    "            if file[i].split()[-1]=='.pdf':\n",
    "                p=pdf_search(file[i],[name,vehicle_no,policy_no])\n",
    "            else:\n",
    "                p=img_search(file[i],[name,vehicle_no,policy_no])\n",
    "                \n",
    "        if i== 'dl':\n",
    "            if file[i].split()[-1]=='.pdf':\n",
    "                d=pdf_search(file[i],[name])\n",
    "            else:\n",
    "                d=img_search(file[i],[name])\n",
    "                \n",
    "        if i== 'rc':\n",
    "            if file[i].split()[-1]=='.pdf':\n",
    "                r=pdf_search(file[i],[name,vehicle_no])\n",
    "            else:\n",
    "                r=img_search(file[i],[name,vehicle_no])\n",
    "                \n",
    "        if i== 'fir':\n",
    "            if file[i].split()[-1]=='.pdf':\n",
    "                f=pdf_search(file[i],[name,vehicle_no])\n",
    "            else:\n",
    "                f=img_search(file[i],[name,vehicle_no])\n",
    "        if i== 'img':\n",
    "            if file[i].split()[-1]=='.pdf':\n",
    "                pdf_search(file[i],[vehicle_no])\n",
    "            else:\n",
    "                img_search(file[i],[vehicle_no])\n",
    "        \n",
    "    \n",
    "    "
   ]
  }
 ],
 "metadata": {
  "kernelspec": {
   "display_name": "Python 3",
   "language": "python",
   "name": "python3"
  },
  "language_info": {
   "codemirror_mode": {
    "name": "ipython",
    "version": 3
   },
   "file_extension": ".py",
   "mimetype": "text/x-python",
   "name": "python",
   "nbconvert_exporter": "python",
   "pygments_lexer": "ipython3",
   "version": "3.6.6"
  }
 },
 "nbformat": 4,
 "nbformat_minor": 2
}
